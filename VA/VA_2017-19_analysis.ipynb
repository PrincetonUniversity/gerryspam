{
 "nbformat": 4,
 "nbformat_minor": 2,
 "metadata": {
  "language_info": {
   "name": "python",
   "codemirror_mode": {
    "name": "ipython",
    "version": 3
   },
   "version": "3.7.4"
  },
  "orig_nbformat": 2,
  "file_extension": ".py",
  "mimetype": "text/x-python",
  "name": "python",
  "npconvert_exporter": "python",
  "pygments_lexer": "ipython3",
  "version": 3
 },
 "cells": [
  {
   "cell_type": "markdown",
   "execution_count": 4,
   "metadata": {},
   "outputs": [],
   "source": [
    "# Virginia Analysis \n",
    "### December 2019 \n",
    "### Aaron Barden, Hannah Wheelan, Hope Johnson"
   ]
  },
  {
   "cell_type": "code",
   "execution_count": 8,
   "metadata": {},
   "outputs": [],
   "source": [
    "# set up libraries\n",
    "import pandas as pd\n",
    "import numpy as np\n",
    "import os\n",
    "import gerrymetrics as g\n",
    "import pathlib\n",
    "\n",
    "# set up path\n",
    "path = pathlib.Path.home() / \"projects\" / \"VA\" / \"2019\" / \"citizens report\"\n",
    "\n",
    "# set up gerrymetrics variables\n",
    "metric_dict = {'t_test_diff':            g.t_test_diff,\n",
    "               'mean_median_diff':       g.mean_median,\n",
    "               'declination':            g.declination,\n",
    "               'efficiency_gap':         g.EG,\n",
    "               'partisan_bias':          g.partisan_bias}\n",
    "min_districts = 5\n",
    "min_year=1972\n",
    "competitiveness_threshold = .65 # needs to be above .5"
   ]
  },
  {
   "cell_type": "markdown",
   "execution_count": null,
   "metadata": {},
   "outputs": [],
   "source": [
    "Below I read in the data and re-shape it for data analysis. \n",
    "Note that the 2019 results are from the House of Representatives and represent the 2-party vote share. The 2017 results are from the House of Representatives and represent th"
   ]
  },
  {
   "cell_type": "code",
   "execution_count": 9,
   "metadata": {},
   "outputs": [
    {
     "data": {
      "text/html": "<div>\n<style scoped>\n    .dataframe tbody tr th:only-of-type {\n        vertical-align: middle;\n    }\n\n    .dataframe tbody tr th {\n        vertical-align: top;\n    }\n\n    .dataframe thead th {\n        text-align: right;\n    }\n</style>\n<table border=\"1\" class=\"dataframe\">\n  <thead>\n    <tr style=\"text-align: right;\">\n      <th></th>\n      <th>District</th>\n      <th>Dem Votes-2017</th>\n      <th>Dshare-2017</th>\n      <th>R votes</th>\n      <th>Rshare-2017</th>\n      <th>Dem Votes-2019</th>\n      <th>Dshare-2019</th>\n      <th>GOP Votes-2019</th>\n      <th>Rshare-2019</th>\n      <th>affected</th>\n    </tr>\n  </thead>\n  <tbody>\n    <tr>\n      <th>0</th>\n      <td>1</td>\n      <td>4639</td>\n      <td>23.81</td>\n      <td>14848</td>\n      <td>76.19</td>\n      <td>0</td>\n      <td>0.00</td>\n      <td>16748</td>\n      <td>100.00</td>\n      <td>0</td>\n    </tr>\n    <tr>\n      <th>1</th>\n      <td>2</td>\n      <td>13366</td>\n      <td>63.14</td>\n      <td>7803</td>\n      <td>36.86</td>\n      <td>11828</td>\n      <td>61.00</td>\n      <td>7563</td>\n      <td>39.00</td>\n      <td>0</td>\n    </tr>\n    <tr>\n      <th>2</th>\n      <td>3</td>\n      <td>3759</td>\n      <td>21.69</td>\n      <td>13572</td>\n      <td>78.31</td>\n      <td>0</td>\n      <td>0.00</td>\n      <td>17099</td>\n      <td>100.00</td>\n      <td>0</td>\n    </tr>\n    <tr>\n      <th>3</th>\n      <td>4</td>\n      <td>0</td>\n      <td>0.00</td>\n      <td>15282</td>\n      <td>100.00</td>\n      <td>8461</td>\n      <td>37.03</td>\n      <td>14389</td>\n      <td>62.97</td>\n      <td>0</td>\n    </tr>\n    <tr>\n      <th>4</th>\n      <td>5</td>\n      <td>0</td>\n      <td>0.00</td>\n      <td>18402</td>\n      <td>100.00</td>\n      <td>0</td>\n      <td>0.00</td>\n      <td>18490</td>\n      <td>100.00</td>\n      <td>0</td>\n    </tr>\n  </tbody>\n</table>\n</div>",
      "text/plain": "   District  Dem Votes-2017 Dshare-2017  R votes Rshare-2017  Dem Votes-2019  \\\n0         1            4639       23.81    14848       76.19               0   \n1         2           13366       63.14     7803       36.86           11828   \n2         3            3759       21.69    13572       78.31               0   \n3         4               0        0.00    15282      100.00            8461   \n4         5               0        0.00    18402      100.00               0   \n\n  Dshare-2019  GOP Votes-2019 Rshare-2019  affected  \n0        0.00           16748      100.00         0  \n1       61.00            7563       39.00         0  \n2        0.00           17099      100.00         0  \n3       37.03           14389       62.97         0  \n4        0.00           18490      100.00         0  "
     },
     "execution_count": 9,
     "metadata": {},
     "output_type": "execute_result"
    }
   ],
   "source": [
    "base_dat_path =  path / \"2019 Hypothetical Results - Gerrymetrics data.csv\"\n",
    "dat = pd.read_csv(base_dat_path, header=1)\n",
    "dat.head()\n",
    "dat = dat.rename(columns={\n",
    "    \"District\": \"District\",\n",
    "    \"D votes\": \"Dem Votes-2017\",\n",
    "    \"Dshare\": \"Dshare-2017\", \n",
    "    \"Rvotes\": \"GOP Votes-2017\",\n",
    "    \"Rshare\": \"Rshare-2017\",\n",
    "    \"D votes.1\": \"Dem Votes-2019\",\n",
    "    \"Dshare.1\": \"Dshare-2019\",\n",
    "    \"R votes.1\": \"GOP Votes-2019\",\n",
    "    \"Rshare.1\": \"Rshare-2019\",\n",
    "    \"affected\": \"affected\"})\n",
    "\n",
    "dat['Dshare-2017'] = dat['Dshare-2017'].str.replace('%', '')\n",
    "dat['Dshare-2019'] = dat['Dshare-2019'].str.replace('%', '')\n",
    "dat['Rshare-2017'] = dat['Rshare-2017'].str.replace('%', '')\n",
    "dat['Rshare-2019'] = dat['Rshare-2019'].str.replace('%', '')\n",
    "\n",
    "dat.head()\n"
   ]
  },
  {
   "cell_type": "code",
   "execution_count": 10,
   "metadata": {},
   "outputs": [
    {
     "data": {
      "text/html": "<div>\n<style scoped>\n    .dataframe tbody tr th:only-of-type {\n        vertical-align: middle;\n    }\n\n    .dataframe tbody tr th {\n        vertical-align: top;\n    }\n\n    .dataframe thead th {\n        text-align: right;\n    }\n</style>\n<table border=\"1\" class=\"dataframe\">\n  <thead>\n    <tr style=\"text-align: right;\">\n      <th></th>\n      <th>District</th>\n      <th>Year</th>\n      <th>R votes</th>\n      <th>affected</th>\n      <th>Dshare</th>\n      <th>Rshare</th>\n      <th>Dem Votes</th>\n      <th>GOP Votes</th>\n      <th>D Voteshare</th>\n      <th>Party</th>\n      <th>State</th>\n    </tr>\n  </thead>\n  <tbody>\n    <tr>\n      <th>0</th>\n      <td>1</td>\n      <td>2017</td>\n      <td>14848</td>\n      <td>0</td>\n      <td>23.81</td>\n      <td>0.7619</td>\n      <td>4639</td>\n      <td>NaN</td>\n      <td>0.2381</td>\n      <td>D</td>\n      <td>VA</td>\n    </tr>\n    <tr>\n      <th>1</th>\n      <td>1</td>\n      <td>2019</td>\n      <td>14848</td>\n      <td>0</td>\n      <td>0.00</td>\n      <td>1.0000</td>\n      <td>0</td>\n      <td>16748.0</td>\n      <td>0.0000</td>\n      <td>R</td>\n      <td>VA</td>\n    </tr>\n    <tr>\n      <th>2</th>\n      <td>2</td>\n      <td>2017</td>\n      <td>7803</td>\n      <td>0</td>\n      <td>63.14</td>\n      <td>0.3686</td>\n      <td>13366</td>\n      <td>NaN</td>\n      <td>0.6314</td>\n      <td>D</td>\n      <td>VA</td>\n    </tr>\n    <tr>\n      <th>3</th>\n      <td>2</td>\n      <td>2019</td>\n      <td>7803</td>\n      <td>0</td>\n      <td>61.00</td>\n      <td>0.3900</td>\n      <td>11828</td>\n      <td>7563.0</td>\n      <td>0.6100</td>\n      <td>D</td>\n      <td>VA</td>\n    </tr>\n    <tr>\n      <th>4</th>\n      <td>3</td>\n      <td>2017</td>\n      <td>13572</td>\n      <td>0</td>\n      <td>21.69</td>\n      <td>0.7831</td>\n      <td>3759</td>\n      <td>NaN</td>\n      <td>0.2169</td>\n      <td>D</td>\n      <td>VA</td>\n    </tr>\n  </tbody>\n</table>\n</div>",
      "text/plain": "   District  Year  R votes  affected  Dshare  Rshare  Dem Votes  GOP Votes  \\\n0         1  2017    14848         0   23.81  0.7619       4639        NaN   \n1         1  2019    14848         0    0.00  1.0000          0    16748.0   \n2         2  2017     7803         0   63.14  0.3686      13366        NaN   \n3         2  2019     7803         0   61.00  0.3900      11828     7563.0   \n4         3  2017    13572         0   21.69  0.7831       3759        NaN   \n\n   D Voteshare Party State  \n0       0.2381     D    VA  \n1       0.0000     R    VA  \n2       0.6314     D    VA  \n3       0.6100     D    VA  \n4       0.2169     D    VA  "
     },
     "execution_count": 10,
     "metadata": {},
     "output_type": "execute_result"
    }
   ],
   "source": [
    "dat_long = pd.wide_to_long(dat, ['Dshare', 'Rshare', 'Dem Votes', 'GOP Votes'], i='District', j='Year', sep='-')\n",
    "dat_long[['Dshare', 'Rshare']] = dat_long[['Dshare', 'Rshare']].apply(pd.to_numeric)\n",
    "dat_long['D Voteshare'] = dat_long['Dshare']/100\n",
    "dat_long['Rshare'] = dat_long['Rshare']/100\n",
    "dat_long = dat_long.reset_index()\n",
    "dat_long['Party'] = np.where(dat_long['Dshare'] > .5, 'D', 'R')\n",
    "# dat_long['Dem Votes'] = 0\n",
    "# dat_long['GOP Votes'] = 0\n",
    "dat_long['State'] = 'VA'\n",
    "dat_long.head()\n"
   ]
  },
  {
   "cell_type": "markdown",
   "execution_count": 73,
   "metadata": {},
   "outputs": [],
   "source": [
    "## Create data sets"
   ]
  },
  {
   "cell_type": "code",
   "execution_count": 12,
   "metadata": {},
   "outputs": [],
   "source": [
    "affected = dat_long['affected'] == 1\n",
    "unaffected = dat_long['affected'] == 0\n",
    "year_2017 = dat_long['Year'] == 2017\n",
    "year_2019 = dat_long['Year'] == 2019\n",
    "\n",
    "dat_2017 = dat_long[year_2017]\n",
    "dat_2017_affected = dat_long[year_2017 & affected]\n",
    "dat_2017_unaffected = dat_long[year_2017 & unaffected]\n",
    "\n",
    "dat_2019 = dat_long[year_2019]\n",
    "dat_2019_affected = dat_long[year_2019 & affected]\n",
    "dat_2019_unaffected = dat_long[year_2019 & unaffected]\n",
    "\n",
    "dat_path_2017 = path / \"dat_2017.csv\"\n",
    "dat_path_2017_affected = path / \"dat_2017_affected.csv\"\n",
    "dat_path_2017_unaffected = path / \"dat_2017_unaffected.csv\"\n",
    "\n",
    "dat_path_2019 = path / \"dat_2019.csv\"\n",
    "dat_path_2019_affected = path / \"dat_2019_affected.csv\"\n",
    "dat_path_2019_unaffected = path / \"dat_2019_unaffected.csv\"\n",
    "\n",
    "dat_2017.to_csv(dat_path_2017)\n",
    "dat_2017_affected.to_csv(dat_path_2017_affected)\n",
    "dat_2017_unaffected.to_csv(dat_path_2017_unaffected)\n",
    "\n",
    "dat_2019.to_csv(dat_path_2019)\n",
    "dat_2019_affected.to_csv(dat_path_2019_affected)\n",
    "dat_2019_unaffected.to_csv(dat_path_2019_unaffected)\n"
   ]
  },
  {
   "cell_type": "code",
   "execution_count": 13,
   "metadata": {},
   "outputs": [
    {
     "name": "stderr",
     "output_type": "stream",
     "text": "/usr/local/lib/python3.7/site-packages/gerrymetrics/utils.py:36: FutureWarning: The 'contains' method is deprecated and will be removed in a future version. Use 'key in index' instead of 'index.contains(key)'\n  if df.columns.contains('Dem Votes'):\n100%|██████████| 1/1 [00:00<00:00, 132.05it/s]\n/usr/local/lib/python3.7/site-packages/gerrymetrics/utils.py:53: FutureWarning: the 'labels' keyword is deprecated, use 'codes' instead\n  names=['Year', 'State'])\n100%|██████████| 1/1 [00:00<00:00, 295.96it/s]\n100%|██████████| 1/1 [00:00<00:00, 276.23it/s]\n100%|██████████| 1/1 [00:00<00:00, 250.99it/s]\n100%|██████████| 1/1 [00:00<00:00, 301.64it/s]\n100%|██████████| 1/1 [00:00<00:00, 262.47it/s]\n"
    }
   ],
   "source": [
    "def run_tests(data, title):\n",
    "    parsed_res = g.parse_results(data)\n",
    "    out_file = g.tests_df(g.run_all_tests(parsed_res, impute_val=1, metrics=metric_dict))\n",
    "    file_name = title + \".csv\"\n",
    "    out_path = pathlib.Path.home() / \"projects\" / \"VA\" / \"2019\" / \"citizens report\" / file_name\n",
    "    out_file.to_csv(out_path)\n",
    "\n",
    "run_tests(dat_path_2017, \"statewide_2017\")\n",
    "run_tests(dat_path_2017_affected, \"affected_2017\")\n",
    "run_tests(dat_path_2017_unaffected, \"unaffected_2017\")\n",
    "\n",
    "run_tests(dat_path_2019, \"statewide_2019\")\n",
    "run_tests(dat_path_2019_affected, \"affected_2019\")\n",
    "run_tests(dat_path_2019_unaffected, \"unaffected_2019\")\n"
   ]
  },
  {
   "cell_type": "code",
   "execution_count": null,
   "metadata": {},
   "outputs": [],
   "source": []
  }
 ]
}