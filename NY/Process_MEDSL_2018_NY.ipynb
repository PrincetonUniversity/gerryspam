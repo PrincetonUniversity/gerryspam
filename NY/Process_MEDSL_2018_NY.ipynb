{
 "cells": [
  {
   "cell_type": "code",
   "execution_count": 22,
   "metadata": {},
   "outputs": [],
   "source": [
    "import geopandas as gpd\n",
    "import pandas as pd\n",
    "import numpy as np"
   ]
  },
  {
   "cell_type": "code",
   "execution_count": 23,
   "metadata": {},
   "outputs": [],
   "source": [
    "#list states you need data for\n",
    "states = ['New York']\n",
    "\n",
    "#filepath to country wide 2018 precinct level returns\n",
    "elec_fp = '/Users/laeocrnkovic-rubsamen/Downloads/precinct_2018.csv'\n",
    "#load into dataframe\n",
    "\n",
    "elec_df = pd.read_csv(elec_fp, dtype = {'precinct':str, 'party':str, \n",
    "                                        'district':str, 'writein':str}, encoding = \"ISO-8859-1\")"
   ]
  },
  {
   "cell_type": "code",
   "execution_count": 26,
   "metadata": {},
   "outputs": [
    {
     "name": "stdout",
     "output_type": "stream",
     "text": [
      "[]\n"
     ]
    }
   ],
   "source": [
    "#states = elec_df.state.unique()\n",
    "statewide_offices = []\n",
    "parties = elec_df.party.unique()\n",
    "#get state-level dataset\n",
    "state_df = elec_df.loc[elec_df.state == 'New York']\n",
    "\n",
    "offices = state_df.office.unique()\n",
    "\n",
    "print(offices)"
   ]
  },
  {
   "cell_type": "code",
   "execution_count": 17,
   "metadata": {},
   "outputs": [
    {
     "name": "stdout",
     "output_type": "stream",
     "text": [
      "Series([], Name: office, dtype: object)\n",
      "here\n",
      "[]\n",
      "[]\n",
      "5\n"
     ]
    }
   ],
   "source": [
    "for state in states:\n",
    "    state_df.precinct = state_df.county.map(str) + ',' + state_df.precinct.map(str)\n",
    "\n",
    "    #make list of office titles\n",
    "    offices_tot = state_df['office'].unique()\n",
    "    print('here')\n",
    "    counties_tot = state_df['county'].unique()\n",
    "    state_offices = []\n",
    "    counties_office = {}\n",
    "    #loop through offices and find statewide ones\n",
    "    for office in offices_tot:\n",
    "        print('1')\n",
    "        counties  = []\n",
    "        counties.append(state_df.loc[state_df['office'] == office, 'county'])\n",
    "        #list of counties that had an election for that office\n",
    "        counties_office[office] = counties\n",
    "        c = counties_office[office][0].values\n",
    "        D = {I: True for I in c}\n",
    "        count = D.keys()\n",
    "        if len(count) ==  len(counties_tot):\n",
    "            state_offices.append(office)\n",
    "    state_offices = ['State Senate', 'State House Position 1','State House Position 2', 'US House', 'US Senate']\n",
    "    state_elec = state_df.loc[state_df['office'].isin(state_offices)]\n",
    "    #statewide_offices.append(state_offices)\n",
    "#get table of elections by precinct\n",
    "prec_elec = pd.pivot_table(state_elec, \n",
    "                           index = ['precinct'], \n",
    "                           columns = ['party','office'], \n",
    "                           values = ['votes'], \n",
    "                           aggfunc = np.sum)\n",
    "prec_elec.columns = prec_elec.columns.to_series().str.join(' ')\n",
    "\n",
    "columns = prec_elec.columns.values\n",
    "print(columns)\n",
    "\n",
    "print('5')\n",
    "\n",
    "\n",
    "# =============================================================================\n",
    "# def rename_vote_cols(columns):\n",
    "#     ''' function to take long name after processing election data and put into \n",
    "#     10 char. string'''\n",
    "#     for vote_col in columns:\n",
    "#         rn_col = vote_col.replace('votes ','')\n",
    "# \n",
    "# =============================================================================\n",
    "\n",
    "#rename columns\n",
    "prec_elec_rn = prec_elec.rename(columns = {\n",
    "        'votes democrat State House Position 1' : 'G18DStHou1',\n",
    "        'votes democrat State House Position 2' : 'G18DStHou2', \n",
    "        'votes democrat State Senate' : 'G18DStSen',\n",
    "        'votes democrat US House'  : 'G18DHOR',\n",
    "        'votes democrat US Senate' : 'G18DSEN',\n",
    "        'votes independent State House Position 1' : 'G18IStHou1',\n",
    "        'votes independent State House Position 2' : 'G18IStHou2',\n",
    "        'votes independent State Senate' : 'G18IStSen',\n",
    "        'votes independent republican State Senate' : 'G18IStSen',\n",
    "        'votes libertarian State House Position 1' : 'G18LStHou1',\n",
    "        'votes libertarian State House Position 2' : 'G18LStHou2',\n",
    "        'votes libertarian State Senate'  : 'G18LStSen',\n",
    "        'votes libertarian US House' : 'G18LHOR',\n",
    "        'votes no party preference State House Position 1' : 'G18NPStHou1',\n",
    "        'votes no party preference State House Position 2' : 'G18NPStHou2',\n",
    "        'votes no party preference State Senate' : 'G18NPStSen',\n",
    "        'votes no party preference US House' : 'G18NPHOR',\n",
    "        'votes no party preference US Senate' : 'G18NPSEN',\n",
    "        'votes republican State House Position 1' : 'G18RStHou1',\n",
    "        'votes republican State House Position 2'  : 'G18RStHou2',\n",
    "        'votes republican State Senate' : 'G18RStSen',\n",
    "        'votes republican US House'  : 'G18RHOR',\n",
    "        'votes republican US Senate' : 'G18RSEN'})\n",
    "    \n",
    "\n",
    "#get rid of other columns and save\n",
    "#this is ready to be matched to precinct names now\n",
    "prec_elec_rn = prec_elec_rn.fillna(0)\n",
    "#prec_elec_rn['G18OGOV'] = prec_elec_rn['G18OGOV1'].astype(int) + prec_elec_rn['G18OGOV2'].astype(int)+ prec_elec_rn['G18OGOV3'].astype(int)\n",
    "\n",
    "#this is ready to be matched to precinct names now\n",
    "\n",
    "prec_elec_rn.to_csv('/Users/laeocrnkovic-rubsamen/Downloads/NY_G18_MIT.csv')"
   ]
  },
  {
   "cell_type": "code",
   "execution_count": null,
   "metadata": {},
   "outputs": [],
   "source": []
  }
 ],
 "metadata": {
  "kernelspec": {
   "display_name": "Python 3",
   "language": "python",
   "name": "python3"
  },
  "language_info": {
   "codemirror_mode": {
    "name": "ipython",
    "version": 3
   },
   "file_extension": ".py",
   "mimetype": "text/x-python",
   "name": "python",
   "nbconvert_exporter": "python",
   "pygments_lexer": "ipython3",
   "version": "3.8.3"
  }
 },
 "nbformat": 4,
 "nbformat_minor": 4
}
